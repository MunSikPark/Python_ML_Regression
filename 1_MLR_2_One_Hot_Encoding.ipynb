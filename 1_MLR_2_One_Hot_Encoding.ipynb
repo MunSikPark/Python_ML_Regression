{
 "cells": [
  {
   "cell_type": "markdown",
   "metadata": {},
   "source": [
    "# One Hot Encoding을 통한 Category Data 변환"
   ]
  },
  {
   "cell_type": "code",
   "execution_count": null,
   "metadata": {},
   "outputs": [],
   "source": [
    "# Transform a categorical variable into a set of binary variables\n",
    "pd.get_dummies(df['Fuel_Type'])\n",
    "\n",
    "# 원 핫 인코딩한 자료 한번에 데이터 프레임에 추가할 때\n",
    "df2 = pd.get_dummies(data = df, columns = ['Fuel_Type'], prefix = 'Fuel_Type')\n",
    "\n",
    "# 추가로 for 문 활용하는 방법(참고)\n",
    "# http://growthj.link/python-%EC%9B%90-%ED%95%AB-%EC%9D%B8%EC%BD%94%EB%94%A9one-hot-encoding-%EC%A0%95%EB%A6%AC-get_dummies/"
   ]
  }
 ],
 "metadata": {
  "kernelspec": {
   "display_name": "Python 3",
   "language": "python",
   "name": "python3"
  },
  "language_info": {
   "codemirror_mode": {
    "name": "ipython",
    "version": 3
   },
   "file_extension": ".py",
   "mimetype": "text/x-python",
   "name": "python",
   "nbconvert_exporter": "python",
   "pygments_lexer": "ipython3",
   "version": "3.7.6"
  }
 },
 "nbformat": 4,
 "nbformat_minor": 4
}
